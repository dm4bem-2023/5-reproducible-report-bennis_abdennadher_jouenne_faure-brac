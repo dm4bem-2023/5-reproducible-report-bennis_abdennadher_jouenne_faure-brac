{
 "cells": [
  {
   "cell_type": "markdown",
   "metadata": {},
   "source": [
    "            \n",
    "                                Dynamic Models for Building Energy Management\n",
    "                                \n",
    "                                \n",
    "                                \n",
    "Notre étude portera sur un studio de 25m2, une buanderie de 25m2et un couloir.\n",
    "Cette construction comporte une fenêtre et deux portes. Les dimensions sont détaillées sur la figure ci-dessous. La fenêtre est munie d’un double vitrage. Une seule face de la construction est en contact avec l’extérieur ( la fenêtre y appartient ).\n",
    "Hypothèses : \n",
    "Les parois du bâtiment (marqués en traits noirs) sont considérées comme adiabatiques \n",
    "Le transfert de chaleur avec le sol et le plafond est négligeable.\n",
    "La température est uniforme sur chaque surface d’un mur.\n",
    "Conditions aux limites : \n",
    "La température à l'extérieur du bâtiment est de 10°C.\n",
    "La température au niveau du couloir du bâtiment est de 20°C. "
   ]
  },
  {
   "cell_type": "markdown",
   "metadata": {
    "tags": []
   },
   "source": [
    "Composition ds murs, de la fenêtre et des portes :\n",
    "Le mur extérieur (en contact avec l’extérieur) est composé de : 20 cm de béton, 8 cm d’isolant (laine de verre) et 2 cm de placoplatre.\n",
    "Le mur intérieur (en contact avec le couloir) est composé de 2x2cm de placoplatre séparés de 8 cm de laine de verre. \n",
    "La hauteur de tous les murs est de 320 cm. \n",
    "Le mur qui sépare les 2 pièces est composé de 15 cm de placoplatre. \n",
    "La fenêtre est en double vitrage (4mm de verre, 16 mm d’air, 4mm de verre) une hauteur de 100 cm et une largeur de 90cm\n",
    "Les portes sont en bois avec une épaisseur de 4 cm, une hauteur de 210 cm et une largeur de 90 cm. \n",
    "\n"
   ]
  },
  {
   "cell_type": "markdown",
   "metadata": {},
   "source": [
    "Nombre de noeuds de température : 2 \n",
    "Nombre de branches à débit : 7\n",
    "    "
   ]
  },
  {
   "cell_type": "markdown",
   "metadata": {},
   "source": [
    "Vous trouverez ci-joint, le schéma représentant notre modèle ainsi que le schéma réseau  pour la modélisation du transfert de chaleur"
   ]
  },
  {
   "cell_type": "markdown",
   "metadata": {},
   "source": [
    "![Texte alternatif](/Utilisateurs/rimbennis/Documents/Image-1.jpg)"
   ]
  },
  {
   "cell_type": "markdown",
   "metadata": {},
   "source": [
    "![Texte alternatif](/Utilisateurs/rimbennis/Documents/Image-2.jpg)"
   ]
  },
  {
   "cell_type": "code",
   "execution_count": 1,
   "metadata": {},
   "outputs": [],
   "source": [
    "import numpy as np\n",
    "import pandas as pd\n",
    "import matplotlib.pyplot as plt\n",
    "#import dm4bem\n",
    "lm = 5 #m width of the wall\n",
    "lp= 0.9  #m width of the door\n",
    "lf=0.9  #m width of the window\n",
    "ef=0.024 #m thickeness of the window\n",
    "hm=3.2  #m height of the wall\n",
    "hp=2.1  #m height of the door\n",
    "ep=0.04 #m thickeness of the door\n",
    "hf=1  #m width of the window\n",
    "S1=lm*hm-lp*hp  # m² surface de la paroi 1 qui est en contact avec le in\n",
    "S2=S1  # m² surface de la paroi 2 qui est en contact avec le in\n",
    "S3=lm*hm-lf*hf  # m² surface de la paroi 3 qui est en contact avec le out\n",
    "S4=lm*hm # m² surface de la paroi entre les deux pièces\n",
    "Sp1=lp*hp # m² surface de la porte de la paroi 1\n",
    "Sp2=Sp1 # m² surface de la porte de la paroi 2\n",
    "Sf=lf*hf # m² surface de la fenêtre de la paroi 3"
   ]
  },
  {
   "cell_type": "code",
   "execution_count": 2,
   "metadata": {
    "tags": []
   },
   "outputs": [],
   "source": [
    "concrete = {'Conductivity': 1.400,\n",
    "            'Density': 2300.0,\n",
    "            'Specific heat': 880,\n",
    "            'Width': 0.2,\n",
    "           'Surface': S3}\n",
    "insulation_in = {'Conductivity': 0.04,\n",
    "              'Density': 16,\n",
    "              'Specific heat': 1210,\n",
    "              'Width': 0.08,\n",
    "              'Surface':S1+S2}\n",
    "insulation_out = {'Conductivity': 0.04,\n",
    "              'Density': 16,\n",
    "              'Specific heat': 1210,\n",
    "              'Width': 0.08,\n",
    "              'Surface':S3}\n",
    "placoboard_in = {'Conductivity': 0.3,\n",
    "            'Density': 800.0,\n",
    "            'Specific heat': 1200,\n",
    "            'Width': 0.02,\n",
    "            'Surface': S1+S2}\n",
    "placoboard_out = {'Conductivity': 0.3,\n",
    "            'Density': 800.0,\n",
    "            'Specific heat': 1200,\n",
    "            'Width': 0.02,\n",
    "            'Surface': S3}\n",
    "placoboard_mid = {'Conductivity': 0.3,\n",
    "            'Density': 800.0,\n",
    "            'Specific heat': 1200,\n",
    "            'Width': 0.15,\n",
    "            'Surface': S4}\n",
    "wood = {'Conductivity': 0.14,\n",
    "        'Density': 500,\n",
    "        'Specific heat': 2500,\n",
    "        'Width': 0.04,\n",
    "        'Surface': Sp1 }\n",
    "air = {'Conductivity': 0.024,\n",
    "        'Density': 1.2,                      # kg/m³\n",
    "       'Specific heat': 1000 ,             # J/(kg·K)\n",
    "       'Width': 0.016,\n",
    "       'Surface': Sf}\n",
    "glass = {'Conductivity': 1.4,\n",
    "         'Density': 2500,\n",
    "         'Specific heat': 1210,\n",
    "         'Width': 0.004,\n",
    "         'Surface': Sf}\n",
    "\n",
    "wall_in=  pd.DataFrame.from_dict({'Layer_in': placoboard_in,\n",
    "                                  'middle': insulation_in,\n",
    "                                  'Layer_out': placoboard_in},\n",
    "                              orient='index')\n",
    "wall_out=  pd.DataFrame.from_dict({'Layer_in': placoboard_out,\n",
    "                                   'middle': insulation_out,\n",
    "                                   'Layer_out': concrete},\n",
    "                              orient='index')\n",
    "wall_mid= pd.DataFrame.from_dict({'Layer_in': placoboard_mid,\n",
    "                                   'middle': placoboard_mid,\n",
    "                                   'Layer_out': placoboard_mid},\n",
    "                              orient='index')\n",
    "door= pd.DataFrame.from_dict({'Layer_in': wood,\n",
    "                            'middle': wood,\n",
    "                            'Layer_out': wood},\n",
    "                              orient='index')\n",
    "\n",
    "window=pd.DataFrame.from_dict({'Layer_in': glass,\n",
    "                               'middle': air,\n",
    "                              'Layer_out': glass},\n",
    "                              orient='index')\n"
   ]
  },
  {
   "cell_type": "markdown",
   "metadata": {},
   "source": [
    "On calcule les conductances thermiques pour la conduction en utilisant la formule ci dessous : "
   ]
  },
  {
   "cell_type": "markdown",
   "metadata": {},
   "source": [
    "$$G_{cd}=\\frac{\\lambda}{\\omega}S $$"
   ]
  },
  {
   "cell_type": "code",
   "execution_count": 3,
   "metadata": {},
   "outputs": [
    {
     "data": {
      "text/plain": [
       "Layer_in     6.615\n",
       "middle       6.615\n",
       "Layer_out    6.615\n",
       "dtype: float64"
      ]
     },
     "execution_count": 3,
     "metadata": {},
     "output_type": "execute_result"
    }
   ],
   "source": [
    "# conductances thermiques \n",
    "\n",
    "G_cd_in = wall_in['Conductivity'] / wall_in['Width'] * wall_in['Surface']\n",
    "pd.DataFrame(G_cd_in, columns={'Conductance'})\n",
    "G_cd_out = wall_out['Conductivity'] / wall_out['Width'] * wall_out['Surface']\n",
    "pd.DataFrame(G_cd_out, columns={'Conductance'})\n",
    "G_cd_mid = wall_mid['Conductivity'] / wall_mid['Width'] * wall_mid['Surface']\n",
    "pd.DataFrame(G_cd_mid, columns={'Conductance'})\n",
    "G_cd_door = door['Conductivity'] / door['Width'] * door['Surface']\n",
    "pd.DataFrame(G_cd_door, columns={'Conductance'})\n",
    "G_cd_window = window['Conductivity'] / window['Width'] * window['Surface']\n",
    "pd.DataFrame(G_cd_window, columns={'Conductance'})\n",
    "\n",
    "G_cd_door"
   ]
  },
  {
   "cell_type": "markdown",
   "metadata": {},
   "source": [
    "\n",
    "On calcule les conductances thermiques pour la conduction en utilisant la formule ci dessous : \n",
    "$$ G_{cv}=hS $$\n"
   ]
  },
  {
   "cell_type": "code",
   "execution_count": 4,
   "metadata": {},
   "outputs": [
    {
     "data": {
      "text/plain": [
       "225.76"
      ]
     },
     "execution_count": 4,
     "metadata": {},
     "output_type": "execute_result"
    }
   ],
   "source": [
    "#coefficient de convection\n",
    "h= pd.DataFrame([{'in': 8., 'out': 25}], index=['h'])  # W/(m²⋅K)\n",
    "\n",
    "# convection \n",
    "G_cv_in_in = 8 * wall_in['Surface'][0]     # wall_in côté intérieur\n",
    "G_cv_in_out= 25 * wall_in['Surface'][2]     # wall_in côté extérieur\n",
    "\n",
    "\n",
    "G_cv_out_in = 8 * wall_out['Surface'][0]     # wall_out côté intérieur\n",
    "G_cv_out_out = 25 * wall_out['Surface'][2]     # wall_out côté extérieur\n",
    "\n",
    "\n",
    "G_cv_mid_in = 8 * wall_mid['Surface'][0]     # wall_mid côté intérieur\n",
    "G_cv_mid_out = 25 * wall_mid['Surface'][2]     # wall_mid côté extérieur\n",
    "\n",
    "\n",
    "G_cv_door_in = 8 * door['Surface'][0] # door côté intérieur\n",
    "G_cv_door_out = 25 * door['Surface'][2] # door côté extérieur\n",
    "\n",
    "\n",
    "G_cv_window_in = 8 * window['Surface'][0]     # window côté intérieur\n",
    "G_cv_window_out = 25 * window['Surface'][2]     # window côté extérieur\n",
    "\n",
    "\n",
    "G_cv_in_in"
   ]
  },
  {
   "cell_type": "markdown",
   "metadata": {},
   "source": [
    "On néglige la conductance du rayonnement à longues ondes puisque celui-ci est très faible dans notre système et est donc négligeable. "
   ]
  },
  {
   "cell_type": "markdown",
   "metadata": {},
   "source": [
    "On veut maintenant calculer la conductance d'advection qui s'écrit : "
   ]
  },
  {
   "cell_type": "markdown",
   "metadata": {},
   "source": [
    "$$ G_{v}= \\rho_{a} *c_{a}*\\overset{.}{V_{a}} $$"
   ]
  },
  {
   "cell_type": "markdown",
   "metadata": {},
   "source": [
    "Pour cela, on fait l'hypothèse que nos portes et fenêtres sont complétement fermées et qu'il n'y a pas de bouche d'aération dans le mur qui sépare les deux pièces.  "
   ]
  },
  {
   "cell_type": "code",
   "execution_count": 5,
   "metadata": {},
   "outputs": [
    {
     "name": "stdout",
     "output_type": "stream",
     "text": [
      "Gv = 0.0288 W/K\n"
     ]
    }
   ],
   "source": [
    "# advection\n",
    "# ventilation flow rate\n",
    "Va = lf*ef*hf+ 2*lp*hp*ep                 # m³, volume of air\n",
    "ACH = 0.5                    # air changes per hour for windows and doors closed\n",
    "Va_dot = ACH / 3600 * Va    # m³/s, air infiltration\n",
    "\n",
    "# ventilation & advection\n",
    "Gv = air['Density'] * air['Specific heat'] * Va_dot\n",
    "print(f'Gv = {Gv} W/K')\n"
   ]
  },
  {
   "cell_type": "markdown",
   "metadata": {},
   "source": [
    "Nous allons maintenant calculer les capacités thermiques de chaque éléments de la pièce à l'aide de la formule suivante: "
   ]
  },
  {
   "cell_type": "markdown",
   "metadata": {},
   "source": [
    "$$ C = mc = \\rho cwS $$"
   ]
  },
  {
   "cell_type": "code",
   "execution_count": 6,
   "metadata": {},
   "outputs": [
    {
     "data": {
      "text/plain": [
       "541824.0"
      ]
     },
     "execution_count": 6,
     "metadata": {},
     "output_type": "execute_result"
    }
   ],
   "source": [
    "#thermal capacities \n",
    "\n",
    "C_wall_in = wall_in['Density'] * wall_in['Specific heat'] * wall_in['Width'] * S1*2\n",
    "pd.DataFrame(C_wall_in, columns={'Capacities'})\n",
    "\n",
    "C_wall_out = wall_out['Density'] * wall_out['Specific heat'] * wall_out['Width'] * S3\n",
    "pd.DataFrame(C_wall_out, columns={'Capacities'})\n",
    "\n",
    "\n",
    "C_door = door['Density'] * door['Specific heat'] * door['Width'] * Sp1\n",
    "pd.DataFrame(C_door, columns={'Capacities'})\n",
    "\n",
    "C_wall_mid = wall_mid['Density'] * wall_mid['Specific heat'] * wall_mid['Width'] * S4\n",
    "pd.DataFrame(C_door, columns={'Capacities'})\n",
    "\n",
    "\n",
    "C_window = window['Density'] * window['Specific heat'] * window['Width'] * Sf\n",
    "pd.DataFrame(C_window, columns={'Capacities'})\n",
    "\n",
    "\n",
    "C_wall_in['Layer_in']\n"
   ]
  },
  {
   "cell_type": "markdown",
   "metadata": {},
   "source": [
    "Nous cherchons maintenat à construire la matrice A,aussi appelée matrice d’incidence.\n",
    "On remplit la matrice A de sorte à respecter les conditions suivantes : \n",
    "\n",
    "\n"
   ]
  },
  {
   "cell_type": "markdown",
   "metadata": {},
   "source": [
    "$$A_{kl}=\\begin{cases}\n",
    "&=0 &if &q_k &isn't &connected &to &\\theta_l  \\\\\n",
    "&=1 &if &q_k &enters &into &\\theta_l  \\\\\n",
    "&=-1 &if &q_k &gets &out &of &\\theta_l  \\\\\n",
    "\\end{cases} $$"
   ]
  },
  {
   "cell_type": "markdown",
   "metadata": {},
   "source": [
    "$$ A = \\begin{pmatrix}\n",
    "     \t1&1&.......\\\\\n",
    "     \t-1&1&....... \\\\\n",
    "     \t-1&1&....... \\\\\n",
    "... &...&.......\n",
    "   \\end{pmatrix} $$ \n"
   ]
  },
  {
   "cell_type": "code",
   "execution_count": 7,
   "metadata": {},
   "outputs": [
    {
     "name": "stdout",
     "output_type": "stream",
     "text": [
      "[[ 1.  1.  1.  1.  1.  1.  1.  1.  1.  0.  0.  0.  0.  0.  0.  0.  0.  0.\n",
      "   0.  0.  0.  0.  0.  0.]\n",
      " [-1.  1.  1.  1.  1.  1.  1.  1.  1.  0.  0.  0.  0.  0.  0.  0.  0.  0.\n",
      "   0.  0.  0.  0.  0.  0.]\n",
      " [-1.  0.  1.  1.  1.  1.  1.  1.  1.  0.  0.  0.  0.  0.  0.  0.  0.  0.\n",
      "   0.  0.  0.  0.  0.  0.]\n",
      " [-1. -1.  0.  1.  1.  1.  1.  1.  1.  0.  0.  0.  0.  0.  0.  0.  0.  0.\n",
      "   0.  0.  0.  0.  0.  0.]\n",
      " [-1. -1. -1.  0.  1.  1.  1.  1.  1.  0.  0.  0.  0.  0.  0.  0.  0.  0.\n",
      "   0.  0.  0.  0.  0.  0.]\n",
      " [-1. -1. -1. -1.  0.  1.  1.  1.  1.  0.  0.  0.  0.  0.  0.  0.  0.  0.\n",
      "   0.  0.  0.  0.  0.  0.]\n",
      " [-1. -1. -1. -1. -1.  0.  1.  1.  1.  0.  0.  0.  0.  0.  0.  0.  0.  0.\n",
      "   0.  0.  0.  0.  0.  0.]\n",
      " [-1. -1. -1. -1. -1. -1.  0.  1.  1.  0.  0.  0.  0.  0.  0.  0.  0.  0.\n",
      "   0.  0.  0.  0.  0.  0.]\n",
      " [-1.  0.  0.  0.  0.  0.  0. -1.  1.  0.  0.  0.  0.  0.  0.  0.  0.  0.\n",
      "   0.  0.  0.  0.  0.  0.]\n",
      " [ 0.  0.  0.  0.  0.  0.  0.  0.  1.  0.  0.  0.  0.  0.  0.  0.  0.  0.\n",
      "   0.  0.  0.  0.  0.  0.]\n",
      " [ 0.  0.  0.  0.  0.  0.  0.  0. -1.  0.  0.  0.  0.  0.  0.  0.  1.  0.\n",
      "   0.  0.  0.  0.  0.  0.]\n",
      " [ 0.  0.  0.  0.  0.  0.  0.  0.  0.  1.  1.  1.  1.  1.  1.  1.  1.  0.\n",
      "   0.  0.  0.  0.  0.  0.]\n",
      " [ 0.  0.  0.  0.  0.  0.  0.  0.  0. -1.  1.  1.  1.  1.  1.  1.  1.  0.\n",
      "   0.  0.  0.  0.  0.  0.]\n",
      " [ 0.  0.  0.  0.  0.  0.  0.  0.  0. -1. -1.  1.  1.  1.  1.  1.  1.  0.\n",
      "   0.  0.  0.  0.  0.  0.]\n",
      " [ 0.  0.  0.  0.  0.  0.  0.  0.  0. -1. -1. -1.  1.  1.  1.  1.  1.  0.\n",
      "   0.  0.  0.  0.  0.  0.]\n",
      " [ 0.  0.  0.  0.  0.  0.  0.  0.  0. -1. -1. -1. -1.  1.  1.  1.  1.  0.\n",
      "   0.  0.  0.  0.  0.  0.]\n",
      " [ 0.  0.  0.  0.  0.  0.  0.  0.  0. -1. -1. -1. -1. -1.  1.  1.  1.  0.\n",
      "   0.  0.  0.  0.  0.  0.]\n",
      " [ 0.  0.  0.  0.  0.  0.  0.  0.  0. -1. -1. -1. -1. -1. -1.  1.  1.  0.\n",
      "   0.  0.  0.  0.  0.  0.]\n",
      " [ 0.  0.  0.  0.  0.  0.  0.  0.  0. -1. -1. -1. -1. -1. -1. -1.  1.  0.\n",
      "   0.  0.  0.  0.  0.  0.]\n",
      " [ 0.  0.  0.  0.  0.  0.  0.  0.  0.  0.  0.  0.  0.  0.  0.  0.  1.  0.\n",
      "   0.  0.  0.  0.  0.  0.]\n",
      " [ 0.  0.  0.  0.  0.  0.  0.  0.  0.  0.  0.  0.  0.  0.  0.  0.  1.  0.\n",
      "   0.  0.  0.  0.  0.  0.]\n",
      " [ 0.  0.  0.  0.  0.  0.  0.  0.  0.  0.  0.  0.  0.  0.  0.  0.  1.  1.\n",
      "   1.  1.  1.  1.  1.  1.]\n",
      " [ 0.  0.  0.  0.  0.  0.  0.  0.  0.  0.  0.  0.  0.  0.  0.  0.  1.  1.\n",
      "   1.  1.  1.  1. -1.  0.]\n",
      " [ 0.  0.  0.  0.  0.  0.  0.  0.  0.  0.  0.  0.  0.  0.  0.  0.  1.  1.\n",
      "   1.  1.  1.  1. -1.  0.]\n",
      " [ 0.  0.  0.  0.  0.  0.  0.  0.  0.  0.  0.  0.  0.  0.  0.  0.  1.  1.\n",
      "   1.  1.  1. -1. -1.  0.]\n",
      " [ 0.  0.  0.  0.  0.  0.  0.  0.  0.  0.  0.  0.  0.  0.  0.  0.  1.  1.\n",
      "   1.  1. -1. -1. -1.  0.]\n",
      " [ 0.  0.  0.  0.  0.  0.  0.  0.  0.  0.  0.  0.  0.  0.  0.  0.  1.  1.\n",
      "   1. -1. -1. -1. -1.  0.]\n",
      " [ 0.  0.  0.  0.  0.  0.  0.  0.  0.  0.  0.  0.  0.  0.  0.  0.  1.  1.\n",
      "  -1. -1. -1. -1. -1.  0.]\n",
      " [ 0.  0.  0.  0.  0.  0.  0.  0.  0.  0.  0.  0.  0.  0.  0.  0.  1. -1.\n",
      "  -1. -1. -1. -1. -1.  0.]]\n"
     ]
    }
   ],
   "source": [
    "#definition de A\n",
    "A = np.zeros([29,24])\n",
    "\n",
    "#noeud 0\n",
    "A[0,0] = 1\n",
    "for i in range(8) : \n",
    "    A[i+1,0]=-1\n",
    "    i+=1\n",
    "\n",
    "#noeud 1\n",
    "for i in range(2) : \n",
    "    A[i,1]=1\n",
    "    i+=1\n",
    "for i in range(3,8) : \n",
    "    A[i,1]=-1\n",
    "    i+=1\n",
    "\n",
    "#noeud 2\n",
    "for i in range(3) : \n",
    "    A[i,2]=1\n",
    "    i+=1\n",
    "for i in range(4,8) : \n",
    "    A[i,2]=-1\n",
    "    i+=1\n",
    "\n",
    "#noeud 3\n",
    "for i in range(4) : \n",
    "    A[i,3]=1\n",
    "    i+=1\n",
    "for i in range(5,8) : \n",
    "    A[i,3]=-1\n",
    "    i+=1\n",
    "\n",
    "#noeud 4\n",
    "for i in range(5) : \n",
    "    A[i,4]=1\n",
    "    i+=1\n",
    "for i in range(6,8) : \n",
    "    A[i,4]=-1\n",
    "    i+=1\n",
    "\n",
    "#noeud 5\n",
    "for i in range(6) : \n",
    "    A[i,5]=1\n",
    "    i+=1\n",
    "for i in range(7,8) : \n",
    "    A[i,5]=-1\n",
    "    i+=1\n",
    "\n",
    "#noeud 6\n",
    "for i in range(7) : \n",
    "    A[i,6]=1\n",
    "    i+=1\n",
    "for i in range(8,8) : \n",
    "    A[i,6]=-1\n",
    "    i+=1\n",
    "\n",
    "#noeud 7\n",
    "for i in range(8) : \n",
    "    A[i,7]=1\n",
    "    i+=1\n",
    "A[8,7]=-1\n",
    "\n",
    "#noeud 8\n",
    "for i in range(10) : \n",
    "    A[i,8]=1\n",
    "    i+=1\n",
    "A[10,8]=-1\n",
    "#noeud 9\n",
    "A[11,9]=1\n",
    "for i in range(12,19) : \n",
    "    A[i,9]=-1\n",
    "    i+=1\n",
    "\n",
    "#noeud 10\n",
    "for i in range(11,13):\n",
    "    A[i,10]=1\n",
    "    i+=1\n",
    "for i in range(13,19) : \n",
    "    A[i,10]=-1\n",
    "    i+=1\n",
    "\n",
    "#noeud 11\n",
    "for i in range(11,14):\n",
    "    A[i,11]=1\n",
    "for i in range(14,19) : \n",
    "    A[i,11]=-1\n",
    "    i+=1\n",
    "\n",
    "\n",
    "#noeud 12\n",
    "for i in range(11,15):\n",
    "    A[i,12]=1\n",
    "    i+=1\n",
    "for i in range(15,19) : \n",
    "    A[i,12]=-1\n",
    "    i+=1\n",
    "\n",
    "#noeud 13\n",
    "for i in range(11,16):\n",
    "    A[i,13]=1\n",
    "    i+=1\n",
    "for i in range(16,19) : \n",
    "    A[i,13]=-1\n",
    "    i+=1\n",
    "\n",
    "#noeud 14\n",
    "for i in range(11,17):\n",
    "    A[i,14]=1\n",
    "    i+=1\n",
    "for i in range(17,19) : \n",
    "    A[i,14]=-1\n",
    "    i+=1\n",
    "\n",
    "#noeud 15\n",
    "for i in range(11,18) : \n",
    "    A[i,15]=1\n",
    "    i+=1\n",
    "for i in range(18,19) : \n",
    "    A[i,15]=-1\n",
    "    i+=1\n",
    "\n",
    "#noeud 16\n",
    "for i in range(10,29):\n",
    "    A[i,16]=1\n",
    "    i+=1\n",
    "\n",
    "#noeud 17\n",
    "for i in range(21,28) : \n",
    "    A[i,17]=1\n",
    "    i+=1\n",
    "A[28,17]=-1\n",
    "\n",
    "#noeud 18\n",
    "for i in range(21,27) : \n",
    "    A[i,18]=1\n",
    "    i+=1\n",
    "for i in range(27,29) : \n",
    "    A[i,18]=-1\n",
    "    i+=1\n",
    "\n",
    "#noeud 19\n",
    "for i in range(21,26) : \n",
    "    A[i,19]=1\n",
    "    i+=1\n",
    "for i in range(26,29) : \n",
    "    A[i,19]=-1\n",
    "    i+=1\n",
    "\n",
    "#noeud 20\n",
    "for i in range(21,25) : \n",
    "    A[i,20]=1\n",
    "    i+=1\n",
    "for i in range(25,29) : \n",
    "    A[i,20]=-1\n",
    "    i+=1\n",
    "\n",
    "#noeud 21\n",
    "for i in range(21,24) : \n",
    "    A[i,21]=1\n",
    "    i+=1\n",
    "for i in range(24,29) : \n",
    "    A[i,21]=-1\n",
    "    i+=1\n",
    "\n",
    "#noeud 22\n",
    "for i in range(21,23) : \n",
    "    A[i,22]=1\n",
    "    i+=1\n",
    "for i in range(23,29) : \n",
    "    A[i,22]=-1\n",
    "    i+=1\n",
    "\n",
    "#noeud 23\n",
    "A[21,23]=1\n",
    "for i in range(22,29) : \n",
    "    A[i,22]=-1\n",
    "    i+=1\n",
    "\n",
    "print(A)\n"
   ]
  },
  {
   "cell_type": "markdown",
   "metadata": {},
   "source": [
    "Nous allons maintenant construire la matrice de conductance G "
   ]
  },
  {
   "cell_type": "code",
   "execution_count": 8,
   "metadata": {},
   "outputs": [
    {
     "name": "stdout",
     "output_type": "stream",
     "text": [
      "[[705.5    0.     0.     0.     0.     0.     0.     0.     0.     0.\n",
      "    0.     0.     0.     0.     0.     0.     0.     0.     0.     0.\n",
      "    0.     0.     0.     0.     0.     0.     0.     0.     0.  ]\n",
      " [  0.   846.6    0.     0.     0.     0.     0.     0.     0.     0.\n",
      "    0.     0.     0.     0.     0.     0.     0.     0.     0.     0.\n",
      "    0.     0.     0.     0.     0.     0.     0.     0.     0.  ]\n",
      " [  0.     0.   846.6    0.     0.     0.     0.     0.     0.     0.\n",
      "    0.     0.     0.     0.     0.     0.     0.     0.     0.     0.\n",
      "    0.     0.     0.     0.     0.     0.     0.     0.     0.  ]\n",
      " [  0.     0.     0.    28.22   0.     0.     0.     0.     0.     0.\n",
      "    0.     0.     0.     0.     0.     0.     0.     0.     0.     0.\n",
      "    0.     0.     0.     0.     0.     0.     0.     0.     0.  ]\n",
      " [  0.     0.     0.     0.    28.22   0.     0.     0.     0.     0.\n",
      "    0.     0.     0.     0.     0.     0.     0.     0.     0.     0.\n",
      "    0.     0.     0.     0.     0.     0.     0.     0.     0.  ]\n",
      " [  0.     0.     0.     0.     0.   846.6    0.     0.     0.     0.\n",
      "    0.     0.     0.     0.     0.     0.     0.     0.     0.     0.\n",
      "    0.     0.     0.     0.     0.     0.     0.     0.     0.  ]\n",
      " [  0.     0.     0.     0.     0.     0.   846.6    0.     0.     0.\n",
      "    0.     0.     0.     0.     0.     0.     0.     0.     0.     0.\n",
      "    0.     0.     0.     0.     0.     0.     0.     0.     0.  ]\n",
      " [  0.     0.     0.     0.     0.     0.     0.   225.76   0.     0.\n",
      "    0.     0.     0.     0.     0.     0.     0.     0.     0.     0.\n",
      "    0.     0.     0.     0.     0.     0.     0.     0.     0.  ]\n",
      " [  0.     0.     0.     0.     0.     0.     0.     0.     0.     0.\n",
      "    0.     0.     0.     0.     0.     0.     0.     0.     0.     0.\n",
      "    0.     0.     0.     0.     0.     0.     0.     0.     0.  ]\n",
      " [  0.     0.     0.     0.     0.     0.     0.     0.     0.    13.23\n",
      "    0.     0.     0.     0.     0.     0.     0.     0.     0.     0.\n",
      "    0.     0.     0.     0.     0.     0.     0.     0.     0.  ]\n",
      " [  0.     0.     0.     0.     0.     0.     0.     0.     0.     0.\n",
      "   64.     0.     0.     0.     0.     0.     0.     0.     0.     0.\n",
      "    0.     0.     0.     0.     0.     0.     0.     0.     0.  ]\n",
      " [  0.     0.     0.     0.     0.     0.     0.     0.     0.     0.\n",
      "    0.   705.5    0.     0.     0.     0.     0.     0.     0.     0.\n",
      "    0.     0.     0.     0.     0.     0.     0.     0.     0.  ]\n",
      " [  0.     0.     0.     0.     0.     0.     0.     0.     0.     0.\n",
      "    0.     0.   846.6    0.     0.     0.     0.     0.     0.     0.\n",
      "    0.     0.     0.     0.     0.     0.     0.     0.     0.  ]\n",
      " [  0.     0.     0.     0.     0.     0.     0.     0.     0.     0.\n",
      "    0.     0.     0.   846.6    0.     0.     0.     0.     0.     0.\n",
      "    0.     0.     0.     0.     0.     0.     0.     0.     0.  ]\n",
      " [  0.     0.     0.     0.     0.     0.     0.     0.     0.     0.\n",
      "    0.     0.     0.     0.    28.22   0.     0.     0.     0.     0.\n",
      "    0.     0.     0.     0.     0.     0.     0.     0.     0.  ]\n",
      " [  0.     0.     0.     0.     0.     0.     0.     0.     0.     0.\n",
      "    0.     0.     0.     0.     0.    28.22   0.     0.     0.     0.\n",
      "    0.     0.     0.     0.     0.     0.     0.     0.     0.  ]\n",
      " [  0.     0.     0.     0.     0.     0.     0.     0.     0.     0.\n",
      "    0.     0.     0.     0.     0.     0.   846.6    0.     0.     0.\n",
      "    0.     0.     0.     0.     0.     0.     0.     0.     0.  ]\n",
      " [  0.     0.     0.     0.     0.     0.     0.     0.     0.     0.\n",
      "    0.     0.     0.     0.     0.     0.     0.   846.6    0.     0.\n",
      "    0.     0.     0.     0.     0.     0.     0.     0.     0.  ]\n",
      " [  0.     0.     0.     0.     0.     0.     0.     0.     0.     0.\n",
      "    0.     0.     0.     0.     0.     0.     0.     0.   225.76   0.\n",
      "    0.     0.     0.     0.     0.     0.     0.     0.     0.  ]\n",
      " [  0.     0.     0.     0.     0.     0.     0.     0.     0.     0.\n",
      "    0.     0.     0.     0.     0.     0.     0.     0.     0.    13.23\n",
      "    0.     0.     0.     0.     0.     0.     0.     0.     0.  ]\n",
      " [  0.     0.     0.     0.     0.     0.     0.     0.     0.     0.\n",
      "    0.     0.     0.     0.     0.     0.     0.     0.     0.     0.\n",
      "  630.     0.     0.     0.     0.     0.     0.     0.     0.  ]\n",
      " [  0.     0.     0.     0.     0.     0.     0.     0.     0.     0.\n",
      "    0.     0.     0.     0.     0.     0.     0.     0.     0.     0.\n",
      "    0.    47.25   0.     0.     0.     0.     0.     0.     0.  ]\n",
      " [  0.     0.     0.     0.     0.     0.     0.     0.     0.     0.\n",
      "    0.     0.     0.     0.     0.     0.     0.     0.     0.     0.\n",
      "    0.     0.   211.4    0.     0.     0.     0.     0.     0.  ]\n",
      " [  0.     0.     0.     0.     0.     0.     0.     0.     0.     0.\n",
      "    0.     0.     0.     0.     0.     0.     0.     0.     0.     0.\n",
      "    0.     0.     0.   211.4    0.     0.     0.     0.     0.  ]\n",
      " [  0.     0.     0.     0.     0.     0.     0.     0.     0.     0.\n",
      "    0.     0.     0.     0.     0.     0.     0.     0.     0.     0.\n",
      "    0.     0.     0.     0.    28.22   0.     0.     0.     0.  ]\n",
      " [  0.     0.     0.     0.     0.     0.     0.     0.     0.     0.\n",
      "    0.     0.     0.     0.     0.     0.     0.     0.     0.     0.\n",
      "    0.     0.     0.     0.     0.    28.22   0.     0.     0.  ]\n",
      " [  0.     0.     0.     0.     0.     0.     0.     0.     0.     0.\n",
      "    0.     0.     0.     0.     0.     0.     0.     0.     0.     0.\n",
      "    0.     0.     0.     0.     0.     0.   846.6    0.     0.  ]\n",
      " [  0.     0.     0.     0.     0.     0.     0.     0.     0.     0.\n",
      "    0.     0.     0.     0.     0.     0.     0.     0.     0.     0.\n",
      "    0.     0.     0.     0.     0.     0.     0.   846.6    0.  ]\n",
      " [  0.     0.     0.     0.     0.     0.     0.     0.     0.     0.\n",
      "    0.     0.     0.     0.     0.     0.     0.     0.     0.     0.\n",
      "    0.     0.     0.     0.     0.     0.     0.     0.   120.8 ]]\n"
     ]
    }
   ],
   "source": [
    "# Matrice G : conductance matrix\n",
    "\n",
    "import numpy as np\n",
    "R1=(placoboard_in['Width']*0.5)/(placoboard_in['Conductivity']*placoboard_in['Surface'])\n",
    "R2=R1\n",
    "R3=(insulation_in['Width']*0.5)/(insulation_in['Conductivity']*insulation_in['Surface'])\n",
    "R4= R3\n",
    "R5=R1\n",
    "R6=R5\n",
    "R8= 0\n",
    "R12=R1\n",
    "R13=R1\n",
    "R14=R3\n",
    "R15=R3\n",
    "R16=R1\n",
    "R17=R1\n",
    "R22=(concrete['Width']*0.5)/(concrete['Conductivity']*concrete['Surface'])\n",
    "R23=R22\n",
    "R24=R3\n",
    "R25=R3\n",
    "R26=R1\n",
    "R27=R1\n",
    "\n",
    "G= np.zeros((29,29))\n",
    "G[0][0]= G_cv_in_out\n",
    "G[1][1]=1/R1\n",
    "G[2][2]=1/R2\n",
    "G[3][3]=1/R3\n",
    "G[4][4]=1/R4\n",
    "G[5][5]=1/R5\n",
    "G[6][6]=1/R6\n",
    "G[7][7]= G_cv_in_in\n",
    "G[8][8]=0\n",
    "G[9][9]=2* G_cd_door['Layer_out']\n",
    "G[10][10]=2*G_cd_mid['Layer_out']\n",
    "G[11][11]=G_cv_in_out \n",
    "G[12][12]=1/R1\n",
    "G[13][13]=1/R13\n",
    "G[14][14]=1/R14\n",
    "G[15][15]=1/R15\n",
    "G[16][16]=1/R16\n",
    "G[17][17]=1/R17\n",
    "G[18][18]=G_cv_in_in\n",
    "G[19][19]=2*G_cd_door['Layer_out']\n",
    "G[20][20]=2*G_cd_window['Layer_out']\n",
    "G[21][21]=G_cv_door_out\n",
    "G[22][22]=1/R22\n",
    "G[23][23]=1/R23\n",
    "G[24][24]=1/R24\n",
    "G[25][25]=1/R25\n",
    "G[26][26]=1/R26\n",
    "G[27][27]=1/R27\n",
    "G[28][28]=G_cv_out_in\n",
    "\n",
    "print(G)\n"
   ]
  },
  {
   "cell_type": "markdown",
   "metadata": {},
   "source": [
    "On peut se permettre de négliger les capacités thermiques de l’air et des fenêtres. On poursuit donc l’étude avec cette étude en admettant des valeurs nulles. La matrice C est une matrice diagonale dont les coefficients correspondent aux capacités thermiques des parois intérieures et extérieures de chaque mur. \n",
    "\n"
   ]
  },
  {
   "cell_type": "code",
   "execution_count": 9,
   "metadata": {},
   "outputs": [
    {
     "name": "stdout",
     "output_type": "stream",
     "text": [
      "[[      0.          0.          0.          0.          0.          0.\n",
      "        0.          0.          0.          0.          0.          0.\n",
      "        0.          0.          0.          0.          0.          0.\n",
      "        0.          0.          0.          0.          0.          0.   ]\n",
      " [      0.     541824.          0.          0.          0.          0.\n",
      "        0.          0.          0.          0.          0.          0.\n",
      "        0.          0.          0.          0.          0.          0.\n",
      "        0.          0.          0.          0.          0.          0.   ]\n",
      " [      0.          0.          0.          0.          0.          0.\n",
      "        0.          0.          0.          0.          0.          0.\n",
      "        0.          0.          0.          0.          0.          0.\n",
      "        0.          0.          0.          0.          0.          0.   ]\n",
      " [      0.          0.          0.      43707.136       0.          0.\n",
      "        0.          0.          0.          0.          0.          0.\n",
      "        0.          0.          0.          0.          0.          0.\n",
      "        0.          0.          0.          0.          0.          0.   ]\n",
      " [      0.          0.          0.          0.          0.          0.\n",
      "        0.          0.          0.          0.          0.          0.\n",
      "        0.          0.          0.          0.          0.          0.\n",
      "        0.          0.          0.          0.          0.          0.   ]\n",
      " [      0.          0.          0.          0.          0.     541824.\n",
      "        0.          0.          0.          0.          0.          0.\n",
      "        0.          0.          0.          0.          0.          0.\n",
      "        0.          0.          0.          0.          0.          0.   ]\n",
      " [      0.          0.          0.          0.          0.          0.\n",
      "        0.          0.          0.          0.          0.          0.\n",
      "        0.          0.          0.          0.          0.          0.\n",
      "        0.          0.          0.          0.          0.          0.   ]\n",
      " [      0.          0.          0.          0.          0.          0.\n",
      "        0.          0.          0.          0.          0.          0.\n",
      "        0.          0.          0.          0.          0.          0.\n",
      "        0.          0.          0.          0.          0.          0.   ]\n",
      " [      0.          0.          0.          0.          0.          0.\n",
      "        0.          0.          0.          0.          0.          0.\n",
      "        0.          0.          0.          0.          0.          0.\n",
      "        0.          0.          0.          0.          0.          0.   ]\n",
      " [      0.          0.          0.          0.          0.          0.\n",
      "        0.          0.          0.          0.          0.          0.\n",
      "        0.          0.          0.          0.          0.          0.\n",
      "        0.          0.          0.          0.          0.          0.   ]\n",
      " [      0.          0.          0.          0.          0.          0.\n",
      "        0.          0.          0.          0.     541824.          0.\n",
      "        0.          0.          0.          0.          0.          0.\n",
      "        0.          0.          0.          0.          0.          0.   ]\n",
      " [      0.          0.          0.          0.          0.          0.\n",
      "        0.          0.          0.          0.          0.          0.\n",
      "        0.          0.          0.          0.          0.          0.\n",
      "        0.          0.          0.          0.          0.          0.   ]\n",
      " [      0.          0.          0.          0.          0.          0.\n",
      "        0.          0.          0.          0.          0.          0.\n",
      "    43707.136       0.          0.          0.          0.          0.\n",
      "        0.          0.          0.          0.          0.          0.   ]\n",
      " [      0.          0.          0.          0.          0.          0.\n",
      "        0.          0.          0.          0.          0.          0.\n",
      "        0.          0.          0.          0.          0.          0.\n",
      "        0.          0.          0.          0.          0.          0.   ]\n",
      " [      0.          0.          0.          0.          0.          0.\n",
      "        0.          0.          0.          0.          0.          0.\n",
      "        0.          0.     541824.          0.          0.          0.\n",
      "        0.          0.          0.          0.          0.          0.   ]\n",
      " [      0.          0.          0.          0.          0.          0.\n",
      "        0.          0.          0.          0.          0.          0.\n",
      "        0.          0.          0.          0.          0.          0.\n",
      "        0.          0.          0.          0.          0.          0.   ]\n",
      " [      0.          0.          0.          0.          0.          0.\n",
      "        0.          0.          0.          0.          0.          0.\n",
      "        0.          0.          0.          0.          0.          0.\n",
      "        0.          0.          0.          0.          0.          0.   ]\n",
      " [      0.          0.          0.          0.          0.          0.\n",
      "        0.          0.          0.          0.          0.          0.\n",
      "        0.          0.          0.          0.          0.          0.\n",
      "        0.          0.          0.          0.          0.          0.   ]\n",
      " [      0.          0.          0.          0.          0.          0.\n",
      "        0.          0.          0.          0.          0.          0.\n",
      "        0.          0.          0.          0.          0.          0.\n",
      "   289920.          0.          0.          0.          0.          0.   ]\n",
      " [      0.          0.          0.          0.          0.          0.\n",
      "        0.          0.          0.          0.          0.          0.\n",
      "        0.          0.          0.          0.          0.          0.\n",
      "        0.          0.          0.          0.          0.          0.   ]\n",
      " [      0.          0.          0.          0.          0.          0.\n",
      "        0.          0.          0.          0.          0.          0.\n",
      "        0.          0.          0.          0.          0.          0.\n",
      "        0.          0.      23386.88        0.          0.          0.   ]\n",
      " [      0.          0.          0.          0.          0.          0.\n",
      "        0.          0.          0.          0.          0.          0.\n",
      "        0.          0.          0.          0.          0.          0.\n",
      "        0.          0.          0.          0.          0.          0.   ]\n",
      " [      0.          0.          0.          0.          0.          0.\n",
      "        0.          0.          0.          0.          0.          0.\n",
      "        0.          0.          0.          0.          0.          0.\n",
      "        0.          0.          0.          0.    6112480.          0.   ]\n",
      " [      0.          0.          0.          0.          0.          0.\n",
      "        0.          0.          0.          0.          0.          0.\n",
      "        0.          0.          0.          0.          0.          0.\n",
      "        0.          0.          0.          0.          0.          0.   ]]\n"
     ]
    }
   ],
   "source": [
    "import numpy as np\n",
    "C= np.diag([0,C_wall_in['Layer_out'],0,C_wall_in['middle'],0,C_wall_in['Layer_in'],0,0,0,0,C_wall_in['Layer_out'],0,C_wall_in['middle'],0,C_wall_in['Layer_in'],0,0,0,C_wall_out['Layer_in'],0,C_wall_out['middle'],0,C_wall_out['Layer_out'],0])\n",
    "\n",
    "print(C)"
   ]
  },
  {
   "cell_type": "code",
   "execution_count": 10,
   "metadata": {},
   "outputs": [
    {
     "name": "stdout",
     "output_type": "stream",
     "text": [
      "y =  [0. 0. 0. 0. 0. 0. 0. 0. 0. 0. 0. 0. 0. 0. 0. 0. 1. 0. 0. 0. 0. 0. 0. 0.]\n",
      "(24,)\n"
     ]
    }
   ],
   "source": [
    "b= np.zeros(29)\n",
    "T_in = 20\n",
    "T_out= 10\n",
    "b[[0,9,11,19]] = 1\n",
    "b[[20,21]]= 1\n",
    "\n",
    "f=np.zeros(24)\n",
    "\n",
    "y = np.zeros(24)        # nodes\n",
    "y[[16]] = 1              # nodes (temperatures) of interest\n",
    "print(f'y = ', y)\n",
    "\n",
    "print (y.shape)"
   ]
  },
  {
   "cell_type": "markdown",
   "metadata": {},
   "source": [
    "On obtient la “state space representation” en résolvant le système de DAE.\n",
    "State-space representation : \n",
    "\n"
   ]
  },
  {
   "cell_type": "markdown",
   "metadata": {},
   "source": [
    "$$C\\dot{\\Theta}=-(A^{T}GA)\\Theta +A^{T}Gb+f\n",
    "\\dot{\\Theta}_{S}=A_{S}\\Theta_{S}+B_{S}u\n",
    "y=C_{S}\\Theta _{S}+D_{S}u$$"
   ]
  },
  {
   "cell_type": "code",
   "execution_count": 11,
   "metadata": {},
   "outputs": [
    {
     "name": "stdout",
     "output_type": "stream",
     "text": [
      "As = \n",
      " [[-8.09423297e-04  3.48812250e-05 -1.60990269e-05  3.38768004e-20\n",
      "   1.14699555e-20 -1.09368894e-20 -1.89925019e-20  1.05571175e-19\n",
      "   1.70468422e-19]\n",
      " [ 4.32411880e-04 -1.08879094e-03  8.00516352e-04  9.20743014e-19\n",
      "  -1.90340204e-19 -1.30142342e-18 -1.87771541e-19  1.18135641e-18\n",
      "   1.90726947e-18]\n",
      " [-1.60990269e-05  6.45749857e-05 -5.38423011e-05  1.35347282e-19\n",
      "  -4.39074775e-20 -2.23162237e-19 -1.05580556e-19  2.09682876e-19\n",
      "   4.24535604e-19]\n",
      " [-3.35805705e-36 -8.09008021e-36  3.82703813e-35 -3.12500000e-03\n",
      "   1.00714775e-17  7.34378566e-18  4.76112355e-20 -8.15257136e-20\n",
      "  -8.59286385e-20]\n",
      " [-3.11776564e-35 -1.65744973e-35  1.76545531e-34  2.08088378e-16\n",
      "  -1.29132231e-03  2.18492796e-16  1.02498011e-18 -2.24051951e-18\n",
      "  -4.62083270e-18]\n",
      " [ 3.44128779e-36 -3.87967569e-36 -2.23211915e-37  6.92414076e-18\n",
      "   1.17500571e-17 -3.12500000e-03 -2.61140450e-19  5.51132185e-19\n",
      "   1.11465673e-18]\n",
      " [-1.10751601e-35 -1.44338458e-35 -3.29916476e-35  8.44209534e-20\n",
      "   7.50766482e-20  6.57323429e-20 -5.84023179e-03  0.00000000e+00\n",
      "  -1.96065876e-19]\n",
      " [-1.20429914e-34  7.40499034e-35 -1.39140032e-34 -1.93943829e-18\n",
      "  -3.41796332e-18 -4.89648836e-18  2.43056871e-17 -2.41331892e-03\n",
      "   2.91668246e-17]\n",
      " [-2.39789817e-23 -1.00899989e-22 -5.35135845e-21 -2.44701717e-20\n",
      "   5.98449223e-21  5.62563826e-20 -6.50969708e-20 -2.60387883e-19\n",
      "  -4.80040360e-05]] \n",
      "\n",
      "Bs = \n",
      " [[-1.46875713e-18 -3.34894456e-20  2.79077918e-20  1.41548110e-21\n",
      "   6.74038617e-20  1.68662397e-21]\n",
      " [-1.04044189e-17 -3.48575039e-19  5.93829299e-19  1.73905839e-20\n",
      "   8.28123043e-19  2.29183972e-20]\n",
      " [ 3.77680405e-18  9.14330998e-20  9.64223033e-20  2.44282559e-21\n",
      "   1.16325028e-19  8.43860363e-21]\n",
      " [ 1.09650157e-35  2.89099848e-21 -1.67857958e-18  1.96786533e-21\n",
      "   9.37078730e-20 -7.35680531e-21]\n",
      " [-2.58041290e-35 -1.64375830e-20 -6.24265133e-17 -3.48590048e-20\n",
      "  -1.65995261e-18 -9.37364615e-20]\n",
      " [-3.18485935e-36  2.50921375e-21 -2.09822447e-18  7.54666554e-21\n",
      "   3.59365026e-19  2.73303285e-20]\n",
      " [ 0.00000000e+00 -6.91051830e-21 -2.55662421e-19 -7.68852367e-21\n",
      "  -3.66120175e-19  2.45082345e-20]\n",
      " [ 0.00000000e+00 -5.91715053e-20  1.72353404e-18 -3.34880973e-20\n",
      "  -1.59467130e-18 -6.07642179e-19]\n",
      " [ 6.62957431e-22  3.93254088e-07  1.22693774e-05  4.74547082e-07\n",
      "   2.25974801e-05  5.81222953e-21]] \n",
      "\n",
      "Cs = \n",
      " [[ 2.45873763e-18  1.94104951e-18  1.00043955e-16  8.05923406e-17\n",
      "  -5.96503956e-17  3.09067612e-16 -2.26638912e-16 -6.22155864e-16\n",
      "   2.19248643e-01]] \n",
      "\n",
      "Ds = \n",
      " [[-1.47722546e-17  6.39599685e-03  1.99552659e-01  7.71816933e-03\n",
      "   3.67531873e-01  8.06375366e-18]] \n",
      "\n"
     ]
    }
   ],
   "source": [
    "import dm4bem\n",
    "\n",
    "\n",
    "[As, Bs, Cs, Ds] = dm4bem.tc2ss(A, G, b, C, f, y)\n",
    "print('As = \\n', As, '\\n')\n",
    "print('Bs = \\n', Bs, '\\n')\n",
    "print('Cs = \\n', Cs, '\\n')\n",
    "print('Ds = \\n', Ds, '\\n')\n"
   ]
  },
  {
   "cell_type": "code",
   "execution_count": 12,
   "metadata": {},
   "outputs": [
    {
     "name": "stdout",
     "output_type": "stream",
     "text": [
      "u = [20. 20. 20. 20. 10. 10.]\n"
     ]
    }
   ],
   "source": [
    "#Vecteur u\n",
    "bT=np.ones(6)\n",
    "bT[[0, 1, 2, 3,4,5]] =[20,20,20,20,10,10]\n",
    "\n",
    "fQ=np.zeros(24)\n",
    "\n",
    "u = np.hstack([bT])\n",
    "print(f'u = {u}')\n",
    "\n"
   ]
  },
  {
   "cell_type": "code",
   "execution_count": 13,
   "metadata": {},
   "outputs": [
    {
     "name": "stdout",
     "output_type": "stream",
     "text": [
      "yss = [10.18077671] °C\n",
      "θ = [ 5.00000000e-01 -2.97539771e-14  4.05009359e-13 -4.83169060e-13\n",
      "  1.42108547e-13 -1.13686838e-13  1.13686838e-13 -2.88193780e-01\n",
      "  7.88193780e-01  5.59250779e-01  1.47104551e-15 -2.66453526e-15\n",
      " -1.77635684e-15  3.02535774e-15  5.55111512e-17 -1.85158684e-01\n",
      "  7.44409462e-01  6.93889390e-17 -8.67361738e-18 -6.10622664e-16\n",
      " -5.55111512e-16  1.23512311e-15  7.44409462e-01 -4.88818925e-01] °C\n",
      "Max error between DAE and state-space: 1.02e+01 °C\n"
     ]
    }
   ],
   "source": [
    "#température des pièces : \n",
    "\n",
    "yss = (-Cs @ np.linalg.inv(As) @ Bs + Ds) @ u\n",
    "print(f'yss = {yss} °C')\n",
    "\n",
    "θ = np.linalg.inv(A.T @ G @ A) @ (A.T @ G @ b + f)\n",
    "print(f'θ = {θ} °C')\n",
    "print(f'Max error between DAE and state-space: {max(abs(θ[6]-yss)):2.2e} °C')\n",
    "\n",
    "\n",
    "#print(As.shape)\n",
    "#print(Bs.shape)\n",
    "#print(Cs.shape)\n",
    "#print(Ds.shape)\n",
    "#print(G.shape)"
   ]
  },
  {
   "cell_type": "code",
   "execution_count": 14,
   "metadata": {},
   "outputs": [
    {
     "name": "stdout",
     "output_type": "stream",
     "text": [
      "Time constants: \n",
      " [   848.94422671   1301.84680659 167131.34229963  20831.58174608\n",
      "    171.22608079    414.36711552    774.4           320.\n",
      "    320.        ] s \n",
      "\n",
      "2 x Time constants: \n",
      " [  1697.88845342   2603.69361318 334262.68459925  41663.16349215\n",
      "    342.45216159    828.73423104   1548.8           640.\n",
      "    640.        ] s \n",
      "\n",
      "Maximum time step: 342.45 s = 5.71 min\n",
      "dt = 300.0 s = 5 min\n",
      "4 * Time constants: \n",
      " [   684   1280   1280   1656   3096   3392   5204  83324 668524] s \n",
      "\n",
      "Settling time: 668525 s = 11142.1 min = 185.70 h = 7.74 days\n"
     ]
    }
   ],
   "source": [
    "#time step and settling time : \n",
    "\n",
    "λ = np.linalg.eig(As)[0]    # eigenvalues of matrix As\n",
    "\n",
    "print('Time constants: \\n', -1 / λ, 's \\n')\n",
    "print('2 x Time constants: \\n', -2 / λ, 's \\n')\n",
    "dtmax = 2 * min(-1. / λ)\n",
    "print(f'Maximum time step: {dtmax:.2f} s = {dtmax / 60:.2f} min')\n",
    "\n",
    "# time step\n",
    "dt = np.floor(dtmax / 60) * 60   # s\n",
    "print(f'dt = {dt} s = {dt / 60:.0f} min')\n",
    "# settling time\n",
    "time_const = np.array([int(x) for x in sorted(-1 / λ)])\n",
    "print('4 * Time constants: \\n', 4 * time_const, 's \\n')\n",
    "\n",
    "t_settle = 4 * max(-1 / λ)                          # on pourra mettre juste t_settle = 500 secondes\n",
    "print(f'Settling time: \\\n",
    "{t_settle:.0f} s = \\\n",
    "{t_settle / 60:.1f} min = \\\n",
    "{t_settle / (3600):.2f} h = \\\n",
    "{t_settle / (3600 * 24):.2f} days')\n"
   ]
  },
  {
   "cell_type": "code",
   "execution_count": null,
   "metadata": {},
   "outputs": [],
   "source": []
  },
  {
   "cell_type": "code",
   "execution_count": 15,
   "metadata": {},
   "outputs": [
    {
     "name": "stdout",
     "output_type": "stream",
     "text": [
      "Duration = 669600.0 s\n",
      "Number of time steps = 2232\n"
     ]
    }
   ],
   "source": [
    "# Step response\n",
    "# -------------\n",
    "# Find the next multiple of 3600 s that is larger than t_settle\n",
    "duration = np.ceil(t_settle / 3600) * 3600\n",
    "n = int(np.floor(duration / dt))    # number of time steps\n",
    "t = np.arange(0, n * dt, dt)        # time vector for n time steps\n",
    "\n",
    "print(f'Duration = {duration} s')\n",
    "print(f'Number of time steps = {n}')\n",
    "# pd.DataFrame(t, columns=['time'])\n"
   ]
  },
  {
   "cell_type": "code",
   "execution_count": 18,
   "metadata": {},
   "outputs": [],
   "source": [
    "#Input vector U : \n",
    "u = np.zeros([6, n])                # u = [Tisp Tisp Tisp Tisp To To Φo Φi Qa Φa +2flux] total de 12\n",
    "u[0:4, :] = 20 * np.ones([4, n])    # Tisp = 10 for n time steps\n",
    "u[4:6, :] = 10 * np.ones([2, n])      # T0 = 20 for n time steps\n",
    "\n",
    "# pd.DataFrame(u)\n"
   ]
  },
  {
   "cell_type": "code",
   "execution_count": 19,
   "metadata": {},
   "outputs": [
    {
     "data": {
      "image/png": "[encoded data removed]",
      "text/plain": [
       "<Figure size 432x288 with 1 Axes>"
      ]
     },
     "metadata": {
      "needs_background": "light"
     },
     "output_type": "display_data"
    }
   ],
   "source": [
    "#Intégrer le temps \n",
    "n_s = As.shape[0]                      # number of state variables\n",
    "θ_exp = np.zeros([n_s, t.shape[0]])    # explicit Euler in time t\n",
    "θ_imp = np.zeros([n_s, t.shape[0]])    # implicit Euler in time t\n",
    "\n",
    "I = np.eye(n_s)                        # identity matrix\n",
    "\n",
    "for k in range(n - 1):\n",
    "    θ_exp[:, k + 1] = (I + dt * As) @\\\n",
    "        θ_exp[:, k] + dt * Bs @ u[:, k]\n",
    "    θ_imp[:, k + 1] = np.linalg.inv(I - dt * As) @\\\n",
    "        (θ_imp[:, k] + dt * Bs @ u[:, k])\n",
    "\n",
    "\n",
    "y_exp = Cs @ θ_exp + Ds @  u\n",
    "y_imp = Cs @ θ_imp + Ds @  u\n",
    "\n",
    "\n",
    "fig, ax = plt.subplots()\n",
    "ax.plot(t / 3600, y_exp.T, t / 3600, y_imp.T)\n",
    "ax.set(xlabel='Time, $t$ / h',\n",
    "       ylabel='Temperatue, $θ_i$ / °C',\n",
    "       title='Step input: outdoor temperature $T_o$')\n",
    "ax.legend(['Explicit', 'Implicit'])\n",
    "ax.grid()\n",
    "plt.show()\n"
   ]
  },
  {
   "cell_type": "code",
   "execution_count": null,
   "metadata": {},
   "outputs": [],
   "source": []
  }
 ],
 "metadata": {
  "kernelspec": {
   "display_name": "Python 3",
   "language": "python",
   "name": "python3"
  },
  "language_info": {
   "codemirror_mode": {
    "name": "ipython",
    "version": 3
   },
   "file_extension": ".py",
   "mimetype": "text/x-python",
   "name": "python",
   "nbconvert_exporter": "python",
   "pygments_lexer": "ipython3",
   "version": "3.8.5"
  },
  "vscode": {
   "interpreter": {
    "hash": "ad2bdc8ecc057115af97d19610ffacc2b4e99fae6737bb82f5d7fb13d2f2c186"
   }
  }
 },
 "nbformat": 4,
 "nbformat_minor": 5
}
